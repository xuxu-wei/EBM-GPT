{
 "cells": [
  {
   "cell_type": "code",
   "execution_count": 10,
   "metadata": {},
   "outputs": [
    {
     "name": "stdout",
     "output_type": "stream",
     "text": [
      "{\n",
      "  \"content\": \"\\n\\nHi there! How can I assist you today?\",\n",
      "  \"role\": \"assistant\"\n",
      "}\n"
     ]
    }
   ],
   "source": [
    "from elekit import *\n",
    "import openai\n",
    "import json\n",
    "import os\n",
    "\n",
    "\n",
    "openai.api_key_path = './api-key.txt'\n",
    "# openai.Model.list()\n",
    "\n",
    "message_container = [\n",
    "    {\"role\": \"user\", \"content\": \"Hello!\"}\n",
    "  ]\n",
    "\n",
    "completion = openai.ChatCompletion.create(\n",
    "  model=\"gpt-3.5-turbo\",\n",
    "  messages=message_container\n",
    ")\n",
    "\n",
    "print(completion.choices[0].message)"
   ]
  },
  {
   "cell_type": "code",
   "execution_count": 12,
   "metadata": {},
   "outputs": [],
   "source": [
    "message_container.append(completion.choices[-1].message)\n",
    "message_container.append({\"role\": \"user\", \"content\": \"什么是数据科学？数据科学有什么用处？\"})"
   ]
  },
  {
   "cell_type": "code",
   "execution_count": 13,
   "metadata": {},
   "outputs": [
    {
     "name": "stdout",
     "output_type": "stream",
     "text": [
      "{\n",
      "  \"content\": \"\\u6570\\u636e\\u79d1\\u5b66\\u662f\\u6307\\u901a\\u8fc7\\u4f7f\\u7528\\u6570\\u5b66\\u3001\\u7edf\\u8ba1\\u5b66\\u3001\\u8ba1\\u7b97\\u673a\\u79d1\\u5b66\\u7b49\\u6280\\u672f\\u6765\\u83b7\\u53d6\\u3001\\u5904\\u7406\\u3001\\u5206\\u6790\\u548c\\u89e3\\u91ca\\u6570\\u636e\\u7684\\u9886\\u57df\\u3002\\u6570\\u636e\\u79d1\\u5b66\\u6d89\\u53ca\\u5230\\u4ece\\u5404\\u79cd\\u6570\\u636e\\u6765\\u6e90\\u6536\\u96c6\\u6570\\u636e\\u3001\\u5bf9\\u6570\\u636e\\u8fdb\\u884c\\u6e05\\u7406\\u548c\\u8f6c\\u6362\\u3001\\u4f7f\\u7528\\u7b97\\u6cd5\\u548c\\u673a\\u5668\\u5b66\\u4e60\\u7b49\\u6280\\u672f\\u8fdb\\u884c\\u5206\\u6790\\u548c\\u5efa\\u6a21\\uff0c\\u4ee5\\u53ca\\u4ece\\u6570\\u636e\\u4e2d\\u63d0\\u53d6\\u6709\\u7528\\u7684\\u6d1e\\u89c1\\u548c\\u9884\\u6d4b\\u3002\\n\\n\\u6570\\u636e\\u79d1\\u5b66\\u5728\\u5f88\\u591a\\u9886\\u57df\\u90fd\\u6709\\u5e7f\\u6cdb\\u7684\\u5e94\\u7528\\uff0c\\u5305\\u62ec\\u91d1\\u878d\\u3001\\u533b\\u7597\\u4fdd\\u5065\\u3001\\u8425\\u9500\\u3001\\u8fd0\\u8f93\\u3001\\u6559\\u80b2\\u7b49\\u3002\\u6570\\u636e\\u79d1\\u5b66\\u53ef\\u4ee5\\u5e2e\\u52a9\\u4f01\\u4e1a\\u548c\\u7ec4\\u7ec7\\u66f4\\u597d\\u5730\\u4e86\\u89e3\\u5ba2\\u6237\\u548c\\u5e02\\u573a\\u8d8b\\u52bf\\uff0c\\u4f18\\u5316\\u4e1a\\u52a1\\u64cd\\u4f5c\\u6d41\\u7a0b\\uff0c\\u63d0\\u9ad8\\u751f\\u4ea7\\u6548\\u7387\\uff0c\\u964d\\u4f4e\\u6210\\u672c\\uff0c\\u5f00\\u53d1\\u65b0\\u4ea7\\u54c1\\u548c\\u670d\\u52a1\\u7b49\\u3002\\n\\n\\u6bd4\\u5982\\uff0c\\u5728\\u533b\\u7597\\u4fdd\\u5065\\u9886\\u57df\\uff0c\\u6570\\u636e\\u79d1\\u5b66\\u53ef\\u4ee5\\u901a\\u8fc7\\u5206\\u6790\\u5927\\u91cf\\u7684\\u75c5\\u5386\\u548c\\u75c5\\u4eba\\u6570\\u636e\\u96c6\\u6765\\u63d0\\u51fa\\u8bca\\u65ad\\u3001\\u9884\\u6d4b\\u75be\\u75c5\\u53d1\\u5c55\\u60c5\\u51b5\\uff0c\\u5e76\\u5e2e\\u52a9\\u533b\\u751f\\u5236\\u5b9a\\u4e2a\\u6027\\u5316\\u7684\\u6cbb\\u7597\\u8ba1\\u5212\\u3002\\u5728\\u91d1\\u878d\\u9886\\u57df\\uff0c\\u6570\\u636e\\u79d1\\u5b66\\u53ef\\u4ee5\\u5e2e\\u52a9\\u94f6\\u884c\\u548c\\u6295\\u8d44\\u516c\\u53f8\\u66f4\\u597d\\u5730\\u4e86\\u89e3\\u5e02\\u573a\\u8d8b\\u52bf\\u548c\\u5ba2\\u6237\\u9700\\u6c42\\uff0c\\u7cbe\\u786e\\u9884\\u6d4b\\u98ce\\u9669\\uff0c\\u5236\\u5b9a\\u98ce\\u9669\\u7ba1\\u7406\\u7b56\\u7565\\u7b49\\u3002\\u5728\\u8425\\u9500\\u9886\\u57df\\uff0c\\u6570\\u636e\\u79d1\\u5b66\\u5219\\u53ef\\u4ee5\\u534f\\u52a9\\u4f01\\u4e1a\\u4e86\\u89e3\\u6d88\\u8d39\\u8005\\u884c\\u4e3a\\u548c\\u504f\\u597d\\uff0c\\u63a8\\u51fa\\u66f4\\u5177\\u6548\\u679c\\u7684\\u5e7f\\u544a\\u548c\\u4fc3\\u9500\\u6d3b\\u52a8\\u3002\",\n",
      "  \"role\": \"assistant\"\n",
      "}\n"
     ]
    }
   ],
   "source": [
    "completion = openai.ChatCompletion.create(\n",
    "  model=\"gpt-3.5-turbo\",\n",
    "  messages=message_container\n",
    ")\n",
    "print(completion.choices[0].message)"
   ]
  },
  {
   "cell_type": "code",
   "execution_count": 21,
   "metadata": {},
   "outputs": [
    {
     "name": "stdout",
     "output_type": "stream",
     "text": [
      "数据科学是指通过使用数学、统计学、计算机科学等技术来获取、处理、分析和解释数据的领域。数据科学涉及到从各种数据来源收集数据、对数据进行清理和转换、使用算法和机器学习等技术进行分析和建模，以及从数据中提取有用的洞见和预测。\n",
      "\n",
      "数据科学在很多领域都有广泛的应用，包括金融、医疗保健、营销、运输、教育等。数据科学可以帮助企业和组织更好地了解客户和市场趋势，优化业务操作流程，提高生产效率，降低成本，开发新产品和服务等。\n",
      "\n",
      "比如，在医疗保健领域，数据科学可以通过分析大量的病历和病人数据集来提出诊断、预测疾病发展情况，并帮助医生制定个性化的治疗计划。在金融领域，数据科学可以帮助银行和投资公司更好地了解市场趋势和客户需求，精确预测风险，制定风险管理策略等。在营销领域，数据科学则可以协助企业了解消费者行为和偏好，推出更具效果的广告和促销活动。\n"
     ]
    }
   ],
   "source": [
    "print(\n",
    "    eval(\n",
    "        json.dumps(# json 解析返回内容\n",
    "                    completion.choices[0].message,\n",
    "                    ensure_ascii=False,\n",
    "                   )\n",
    "        )['content']# eval 转字典，取出GPT生成内容\n",
    "    )"
   ]
  },
  {
   "cell_type": "code",
   "execution_count": null,
   "metadata": {},
   "outputs": [],
   "source": []
  }
 ],
 "metadata": {
  "kernelspec": {
   "display_name": "base",
   "language": "python",
   "name": "python3"
  },
  "language_info": {
   "codemirror_mode": {
    "name": "ipython",
    "version": 3
   },
   "file_extension": ".py",
   "mimetype": "text/x-python",
   "name": "python",
   "nbconvert_exporter": "python",
   "pygments_lexer": "ipython3",
   "version": "3.8.8"
  },
  "orig_nbformat": 4
 },
 "nbformat": 4,
 "nbformat_minor": 2
}
